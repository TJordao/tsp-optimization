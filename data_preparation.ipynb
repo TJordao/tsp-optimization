{
 "cells": [
  {
   "cell_type": "code",
   "execution_count": 2,
   "id": "a35f62e6",
   "metadata": {},
   "outputs": [
    {
     "name": "stdout",
     "output_type": "stream",
     "text": [
      "Collecting openrouteservice"
     ]
    },
    {
     "name": "stderr",
     "output_type": "stream",
     "text": [
      "WARNING: You are using pip version 21.3.1; however, version 22.0.4 is available.\n",
      "You should consider upgrading via the 'C:\\ProgramData\\Anaconda3\\python.exe -m pip install --upgrade pip' command.\n"
     ]
    },
    {
     "name": "stdout",
     "output_type": "stream",
     "text": [
      "\n",
      "  Downloading openrouteservice-2.3.3-py3-none-any.whl (33 kB)\n",
      "Requirement already satisfied: requests>=2.0 in c:\\programdata\\anaconda3\\lib\\site-packages (from openrouteservice) (2.26.0)\n",
      "Requirement already satisfied: charset-normalizer~=2.0.0 in c:\\programdata\\anaconda3\\lib\\site-packages (from requests>=2.0->openrouteservice) (2.0.4)\n",
      "Requirement already satisfied: idna<4,>=2.5 in c:\\programdata\\anaconda3\\lib\\site-packages (from requests>=2.0->openrouteservice) (3.3)\n",
      "Requirement already satisfied: urllib3<1.27,>=1.21.1 in c:\\programdata\\anaconda3\\lib\\site-packages (from requests>=2.0->openrouteservice) (1.26.7)\n",
      "Requirement already satisfied: certifi>=2017.4.17 in c:\\programdata\\anaconda3\\lib\\site-packages (from requests>=2.0->openrouteservice) (2021.10.8)\n",
      "Installing collected packages: openrouteservice\n",
      "Successfully installed openrouteservice-2.3.3\n"
     ]
    }
   ],
   "source": [
    "# !pip install osrm-py\n",
    "!pip install openrouteservice"
   ]
  },
  {
   "cell_type": "code",
   "execution_count": 1,
   "id": "086ebefb",
   "metadata": {},
   "outputs": [],
   "source": [
    "import os\n",
    "import pandas as pd\n",
    "import numpy as np\n",
    "import json\n",
    "import requests\n",
    "import openrouteservice"
   ]
  },
  {
   "cell_type": "code",
   "execution_count": 2,
   "id": "9b50d1b9",
   "metadata": {},
   "outputs": [],
   "source": [
    "# import the data\n",
    "df = pd.read_excel('..\\\\..\\\\data\\\\17.03.31 Hackathon Revised Randomized Location Data v2F.xlsx', sheet_name = 'Student Information', header=2)"
   ]
  },
  {
   "cell_type": "code",
   "execution_count": 3,
   "id": "23e051d1",
   "metadata": {},
   "outputs": [
    {
     "name": "stdout",
     "output_type": "stream",
     "text": [
      "<class 'pandas.core.frame.DataFrame'>\n",
      "RangeIndex: 22422 entries, 0 to 22421\n",
      "Data columns (total 17 columns):\n",
      " #   Column                                   Non-Null Count  Dtype  \n",
      "---  ------                                   --------------  -----  \n",
      " 0   Unnamed: 0                               0 non-null      float64\n",
      " 1   Street Number                            22420 non-null  object \n",
      " 2   Street Name                              22420 non-null  object \n",
      " 3   Zip Code                                 22420 non-null  float64\n",
      " 4   Latitude                                 22420 non-null  float64\n",
      " 5   Longitude                                22420 non-null  float64\n",
      " 6   Pickup Type                              22420 non-null  object \n",
      " 7   Grade                                    22421 non-null  object \n",
      " 8   Geocode                                  22420 non-null  float64\n",
      " 9   Neighborhood Safety Score                22420 non-null  float64\n",
      " 10  Proposed Maximium Walk to Stop Distance  22420 non-null  object \n",
      " 11  Assigned School                          22420 non-null  object \n",
      " 12  Current School Start Time                22420 non-null  object \n",
      " 13  Current School End Time                  22420 non-null  object \n",
      " 14  School Address                           22420 non-null  object \n",
      " 15  School Latitude                          22420 non-null  float64\n",
      " 16  School Longitude                         22420 non-null  float64\n",
      "dtypes: float64(8), object(9)\n",
      "memory usage: 2.9+ MB\n"
     ]
    }
   ],
   "source": [
    "df.info()"
   ]
  },
  {
   "cell_type": "code",
   "execution_count": 4,
   "id": "0b361583",
   "metadata": {},
   "outputs": [
    {
     "data": {
      "text/html": [
       "<div>\n",
       "<style scoped>\n",
       "    .dataframe tbody tr th:only-of-type {\n",
       "        vertical-align: middle;\n",
       "    }\n",
       "\n",
       "    .dataframe tbody tr th {\n",
       "        vertical-align: top;\n",
       "    }\n",
       "\n",
       "    .dataframe thead th {\n",
       "        text-align: right;\n",
       "    }\n",
       "</style>\n",
       "<table border=\"1\" class=\"dataframe\">\n",
       "  <thead>\n",
       "    <tr style=\"text-align: right;\">\n",
       "      <th></th>\n",
       "      <th>Unnamed: 0</th>\n",
       "      <th>Street Number</th>\n",
       "      <th>Street Name</th>\n",
       "      <th>Zip Code</th>\n",
       "      <th>Latitude</th>\n",
       "      <th>Longitude</th>\n",
       "      <th>Pickup Type</th>\n",
       "      <th>Grade</th>\n",
       "      <th>Geocode</th>\n",
       "      <th>Neighborhood Safety Score</th>\n",
       "      <th>Proposed Maximium Walk to Stop Distance</th>\n",
       "      <th>Assigned School</th>\n",
       "      <th>Current School Start Time</th>\n",
       "      <th>Current School End Time</th>\n",
       "      <th>School Address</th>\n",
       "      <th>School Latitude</th>\n",
       "      <th>School Longitude</th>\n",
       "    </tr>\n",
       "  </thead>\n",
       "  <tbody>\n",
       "    <tr>\n",
       "      <th>0</th>\n",
       "      <td>NaN</td>\n",
       "      <td>147</td>\n",
       "      <td>Kelton St</td>\n",
       "      <td>2134.0</td>\n",
       "      <td>-71.13973</td>\n",
       "      <td>42.34797</td>\n",
       "      <td>Corner</td>\n",
       "      <td>3</td>\n",
       "      <td>2.502500e+10</td>\n",
       "      <td>3.0</td>\n",
       "      <td>0.5</td>\n",
       "      <td>Marty Barrett School</td>\n",
       "      <td>09:30:00</td>\n",
       "      <td>16:10:00</td>\n",
       "      <td>50 Beechcroft Street</td>\n",
       "      <td>-71.161501</td>\n",
       "      <td>42.351079</td>\n",
       "    </tr>\n",
       "    <tr>\n",
       "      <th>1</th>\n",
       "      <td>NaN</td>\n",
       "      <td>2</td>\n",
       "      <td>Barstow St</td>\n",
       "      <td>2134.0</td>\n",
       "      <td>-71.14253</td>\n",
       "      <td>42.35302</td>\n",
       "      <td>Corner</td>\n",
       "      <td>2</td>\n",
       "      <td>2.502500e+10</td>\n",
       "      <td>5.0</td>\n",
       "      <td>0.4</td>\n",
       "      <td>Marty Barrett School</td>\n",
       "      <td>09:30:00</td>\n",
       "      <td>16:10:00</td>\n",
       "      <td>50 Beechcroft Street</td>\n",
       "      <td>-71.161501</td>\n",
       "      <td>42.351079</td>\n",
       "    </tr>\n",
       "    <tr>\n",
       "      <th>2</th>\n",
       "      <td>NaN</td>\n",
       "      <td>45</td>\n",
       "      <td>Saunders St</td>\n",
       "      <td>2134.0</td>\n",
       "      <td>-71.14195</td>\n",
       "      <td>42.35347</td>\n",
       "      <td>Corner</td>\n",
       "      <td>3</td>\n",
       "      <td>2.502500e+10</td>\n",
       "      <td>5.0</td>\n",
       "      <td>0.5</td>\n",
       "      <td>Marty Barrett School</td>\n",
       "      <td>09:30:00</td>\n",
       "      <td>16:10:00</td>\n",
       "      <td>50 Beechcroft Street</td>\n",
       "      <td>-71.161501</td>\n",
       "      <td>42.351079</td>\n",
       "    </tr>\n",
       "    <tr>\n",
       "      <th>3</th>\n",
       "      <td>NaN</td>\n",
       "      <td>630</td>\n",
       "      <td>Cambridge St</td>\n",
       "      <td>2134.0</td>\n",
       "      <td>-71.14337</td>\n",
       "      <td>42.35132</td>\n",
       "      <td>Corner</td>\n",
       "      <td>1</td>\n",
       "      <td>2.502500e+10</td>\n",
       "      <td>6.0</td>\n",
       "      <td>0.2</td>\n",
       "      <td>Marty Barrett School</td>\n",
       "      <td>09:30:00</td>\n",
       "      <td>16:10:00</td>\n",
       "      <td>50 Beechcroft Street</td>\n",
       "      <td>-71.161501</td>\n",
       "      <td>42.351079</td>\n",
       "    </tr>\n",
       "    <tr>\n",
       "      <th>4</th>\n",
       "      <td>NaN</td>\n",
       "      <td>575</td>\n",
       "      <td>Cambridge St</td>\n",
       "      <td>2134.0</td>\n",
       "      <td>-71.14103</td>\n",
       "      <td>42.35257</td>\n",
       "      <td>Corner</td>\n",
       "      <td>5</td>\n",
       "      <td>2.502500e+10</td>\n",
       "      <td>5.0</td>\n",
       "      <td>0.5</td>\n",
       "      <td>Marty Barrett School</td>\n",
       "      <td>09:30:00</td>\n",
       "      <td>16:10:00</td>\n",
       "      <td>50 Beechcroft Street</td>\n",
       "      <td>-71.161501</td>\n",
       "      <td>42.351079</td>\n",
       "    </tr>\n",
       "  </tbody>\n",
       "</table>\n",
       "</div>"
      ],
      "text/plain": [
       "   Unnamed: 0 Street Number   Street Name  Zip Code  Latitude  Longitude  \\\n",
       "0         NaN           147     Kelton St    2134.0 -71.13973   42.34797   \n",
       "1         NaN             2    Barstow St    2134.0 -71.14253   42.35302   \n",
       "2         NaN            45   Saunders St    2134.0 -71.14195   42.35347   \n",
       "3         NaN           630  Cambridge St    2134.0 -71.14337   42.35132   \n",
       "4         NaN           575  Cambridge St    2134.0 -71.14103   42.35257   \n",
       "\n",
       "  Pickup Type Grade       Geocode  Neighborhood Safety Score  \\\n",
       "0      Corner     3  2.502500e+10                        3.0   \n",
       "1      Corner     2  2.502500e+10                        5.0   \n",
       "2      Corner     3  2.502500e+10                        5.0   \n",
       "3      Corner     1  2.502500e+10                        6.0   \n",
       "4      Corner     5  2.502500e+10                        5.0   \n",
       "\n",
       "  Proposed Maximium Walk to Stop Distance        Assigned School  \\\n",
       "0                                     0.5   Marty Barrett School   \n",
       "1                                     0.4   Marty Barrett School   \n",
       "2                                     0.5   Marty Barrett School   \n",
       "3                                     0.2   Marty Barrett School   \n",
       "4                                     0.5   Marty Barrett School   \n",
       "\n",
       "  Current School Start Time Current School End Time        School Address  \\\n",
       "0                  09:30:00                16:10:00  50 Beechcroft Street   \n",
       "1                  09:30:00                16:10:00  50 Beechcroft Street   \n",
       "2                  09:30:00                16:10:00  50 Beechcroft Street   \n",
       "3                  09:30:00                16:10:00  50 Beechcroft Street   \n",
       "4                  09:30:00                16:10:00  50 Beechcroft Street   \n",
       "\n",
       "   School Latitude  School Longitude  \n",
       "0       -71.161501         42.351079  \n",
       "1       -71.161501         42.351079  \n",
       "2       -71.161501         42.351079  \n",
       "3       -71.161501         42.351079  \n",
       "4       -71.161501         42.351079  "
      ]
     },
     "execution_count": 4,
     "metadata": {},
     "output_type": "execute_result"
    }
   ],
   "source": [
    "df.head()"
   ]
  },
  {
   "cell_type": "code",
   "execution_count": 5,
   "id": "1b048950",
   "metadata": {},
   "outputs": [],
   "source": [
    "# each school have the most students?\n",
    "count_schools = pd.DataFrame(df.groupby('Assigned School').size().sort_values(ascending=True)) # John L.  Taylor School"
   ]
  },
  {
   "cell_type": "code",
   "execution_count": 12,
   "id": "83aa39ec",
   "metadata": {},
   "outputs": [
    {
     "data": {
      "text/html": [
       "<div>\n",
       "<style scoped>\n",
       "    .dataframe tbody tr th:only-of-type {\n",
       "        vertical-align: middle;\n",
       "    }\n",
       "\n",
       "    .dataframe tbody tr th {\n",
       "        vertical-align: top;\n",
       "    }\n",
       "\n",
       "    .dataframe thead th {\n",
       "        text-align: right;\n",
       "    }\n",
       "</style>\n",
       "<table border=\"1\" class=\"dataframe\">\n",
       "  <thead>\n",
       "    <tr style=\"text-align: right;\">\n",
       "      <th></th>\n",
       "      <th>0</th>\n",
       "    </tr>\n",
       "    <tr>\n",
       "      <th>Assigned School</th>\n",
       "      <th></th>\n",
       "    </tr>\n",
       "  </thead>\n",
       "  <tbody>\n",
       "    <tr>\n",
       "      <th>Ben  Mondor School</th>\n",
       "      <td>15</td>\n",
       "    </tr>\n",
       "    <tr>\n",
       "      <th>Hanley Ramirez School</th>\n",
       "      <td>17</td>\n",
       "    </tr>\n",
       "    <tr>\n",
       "      <th>Steven Wright School</th>\n",
       "      <td>20</td>\n",
       "    </tr>\n",
       "    <tr>\n",
       "      <th>Tom  Yawkey School</th>\n",
       "      <td>21</td>\n",
       "    </tr>\n",
       "    <tr>\n",
       "      <th>Joe Kelly School</th>\n",
       "      <td>23</td>\n",
       "    </tr>\n",
       "    <tr>\n",
       "      <th>Jackie Bradley Jr. School</th>\n",
       "      <td>26</td>\n",
       "    </tr>\n",
       "    <tr>\n",
       "      <th>Steve Selsky School</th>\n",
       "      <td>30</td>\n",
       "    </tr>\n",
       "    <tr>\n",
       "      <th>Josh Rutledge School</th>\n",
       "      <td>33</td>\n",
       "    </tr>\n",
       "    <tr>\n",
       "      <th>Wes  Ferrell School</th>\n",
       "      <td>34</td>\n",
       "    </tr>\n",
       "    <tr>\n",
       "      <th>Curt  Gowdy School</th>\n",
       "      <td>34</td>\n",
       "    </tr>\n",
       "    <tr>\n",
       "      <th>Blake Swihart School</th>\n",
       "      <td>36</td>\n",
       "    </tr>\n",
       "    <tr>\n",
       "      <th>Pedro  Martinez School</th>\n",
       "      <td>36</td>\n",
       "    </tr>\n",
       "    <tr>\n",
       "      <th>Pablo Sandoval School</th>\n",
       "      <td>37</td>\n",
       "    </tr>\n",
       "    <tr>\n",
       "      <th>Dick  O'Connell School</th>\n",
       "      <td>39</td>\n",
       "    </tr>\n",
       "    <tr>\n",
       "      <th>John  Harrington School</th>\n",
       "      <td>39</td>\n",
       "    </tr>\n",
       "    <tr>\n",
       "      <th>Mo  Vaughn School</th>\n",
       "      <td>42</td>\n",
       "    </tr>\n",
       "    <tr>\n",
       "      <th>Brock Holt School</th>\n",
       "      <td>42</td>\n",
       "    </tr>\n",
       "    <tr>\n",
       "      <th>Jimmie  Foxx School</th>\n",
       "      <td>43</td>\n",
       "    </tr>\n",
       "    <tr>\n",
       "      <th>Marty Barrett School</th>\n",
       "      <td>43</td>\n",
       "    </tr>\n",
       "    <tr>\n",
       "      <th>Brandon Workman School</th>\n",
       "      <td>44</td>\n",
       "    </tr>\n",
       "    <tr>\n",
       "      <th>Ira  Flagstaff School</th>\n",
       "      <td>45</td>\n",
       "    </tr>\n",
       "    <tr>\n",
       "      <th>Wade Boggs School</th>\n",
       "      <td>46</td>\n",
       "    </tr>\n",
       "    <tr>\n",
       "      <th>Williams Jerez School</th>\n",
       "      <td>50</td>\n",
       "    </tr>\n",
       "    <tr>\n",
       "      <th>Eddie  Kasko School</th>\n",
       "      <td>50</td>\n",
       "    </tr>\n",
       "    <tr>\n",
       "      <th>Tommy  Harper School</th>\n",
       "      <td>51</td>\n",
       "    </tr>\n",
       "    <tr>\n",
       "      <th>Dustin Pedroia School</th>\n",
       "      <td>52</td>\n",
       "    </tr>\n",
       "    <tr>\n",
       "      <th>Johnny Damon School</th>\n",
       "      <td>60</td>\n",
       "    </tr>\n",
       "    <tr>\n",
       "      <th>Jerry  Remy School</th>\n",
       "      <td>62</td>\n",
       "    </tr>\n",
       "    <tr>\n",
       "      <th>Andrew Benintendi School</th>\n",
       "      <td>63</td>\n",
       "    </tr>\n",
       "    <tr>\n",
       "      <th>Bob  Stanley School</th>\n",
       "      <td>69</td>\n",
       "    </tr>\n",
       "  </tbody>\n",
       "</table>\n",
       "</div>"
      ],
      "text/plain": [
       "                            0\n",
       "Assigned School              \n",
       " Ben  Mondor School        15\n",
       "Hanley Ramirez School      17\n",
       "Steven Wright School       20\n",
       " Tom  Yawkey School        21\n",
       "Joe Kelly School           23\n",
       "Jackie Bradley Jr. School  26\n",
       "Steve Selsky School        30\n",
       "Josh Rutledge School       33\n",
       " Wes  Ferrell School       34\n",
       " Curt  Gowdy School        34\n",
       "Blake Swihart School       36\n",
       " Pedro  Martinez School    36\n",
       "Pablo Sandoval School      37\n",
       " Dick  O'Connell School    39\n",
       " John  Harrington School   39\n",
       " Mo  Vaughn School         42\n",
       "Brock Holt School          42\n",
       " Jimmie  Foxx School       43\n",
       " Marty Barrett School      43\n",
       "Brandon Workman School     44\n",
       " Ira  Flagstaff School     45\n",
       " Wade Boggs School         46\n",
       "Williams Jerez School      50\n",
       " Eddie  Kasko School       50\n",
       " Tommy  Harper School      51\n",
       "Dustin Pedroia School      52\n",
       "Johnny Damon School        60\n",
       " Jerry  Remy School        62\n",
       "Andrew Benintendi School   63\n",
       " Bob  Stanley School       69"
      ]
     },
     "execution_count": 12,
     "metadata": {},
     "output_type": "execute_result"
    }
   ],
   "source": [
    "count_schools[:30]"
   ]
  },
  {
   "cell_type": "code",
   "execution_count": 7,
   "id": "b9d4d3c6",
   "metadata": {},
   "outputs": [],
   "source": [
    "# keep only school with most students\n",
    "df_williams = df.copy()\n",
    "df_williams = df_williams.loc[df_williams['Assigned School']=='Williams Jerez School']"
   ]
  },
  {
   "cell_type": "code",
   "execution_count": 8,
   "id": "d4b17486",
   "metadata": {},
   "outputs": [
    {
     "data": {
      "text/plain": [
       "50"
      ]
     },
     "execution_count": 8,
     "metadata": {},
     "output_type": "execute_result"
    }
   ],
   "source": [
    "len(df_williams)"
   ]
  },
  {
   "cell_type": "code",
   "execution_count": 9,
   "id": "bdbe51df",
   "metadata": {},
   "outputs": [],
   "source": [
    "df_williams.drop('Unnamed: 0', axis=1, inplace=True)\n",
    "df_williams.reset_index(inplace=True)"
   ]
  },
  {
   "cell_type": "code",
   "execution_count": 10,
   "id": "9b2f1d84",
   "metadata": {},
   "outputs": [
    {
     "data": {
      "text/plain": [
       "index                                                      21480\n",
       "Street Number                                                 20\n",
       "Street Name                                          Lagrange St\n",
       "Zip Code                                                  2132.0\n",
       "Latitude                                              -71.144545\n",
       "Longitude                                               42.27356\n",
       "Pickup Type                                               Corner\n",
       "Grade                                                          6\n",
       "Geocode                                            25025130300.0\n",
       "Neighborhood Safety Score                                    3.0\n",
       "Proposed Maximium Walk to Stop Distance                      0.5\n",
       "Assigned School                            Williams Jerez School\n",
       "Current School Start Time                               09:30:00\n",
       "Current School End Time                                 17:00:00\n",
       "School Address                                  200 Heath Street\n",
       "School Latitude                                       -71.106936\n",
       "School Longitude                                       42.326293\n",
       "Name: 49, dtype: object"
      ]
     },
     "execution_count": 10,
     "metadata": {},
     "output_type": "execute_result"
    }
   ],
   "source": [
    "df_williams.iloc[49]"
   ]
  },
  {
   "cell_type": "code",
   "execution_count": 11,
   "id": "cc4d8802",
   "metadata": {},
   "outputs": [
    {
     "data": {
      "text/plain": [
       "3"
      ]
     },
     "execution_count": 11,
     "metadata": {},
     "output_type": "execute_result"
    }
   ],
   "source": [
    "# duplicated locations?\n",
    "df_williams.duplicated(subset=['Longitude','Latitude']).sum()"
   ]
  },
  {
   "cell_type": "code",
   "execution_count": 13,
   "id": "470180d0",
   "metadata": {},
   "outputs": [],
   "source": [
    "# remove duplicated records\n",
    "df_williams.drop_duplicates(subset=['Longitude','Latitude'], inplace=True)"
   ]
  },
  {
   "cell_type": "code",
   "execution_count": 14,
   "id": "4fbd1f2a",
   "metadata": {},
   "outputs": [
    {
     "data": {
      "text/plain": [
       "47"
      ]
     },
     "execution_count": 14,
     "metadata": {},
     "output_type": "execute_result"
    }
   ],
   "source": [
    "len(df_williams)"
   ]
  },
  {
   "cell_type": "code",
   "execution_count": 16,
   "id": "cdadbabb",
   "metadata": {},
   "outputs": [],
   "source": [
    "df_williams.reset_index(inplace=True)"
   ]
  },
  {
   "cell_type": "code",
   "execution_count": 18,
   "id": "142893b1",
   "metadata": {},
   "outputs": [],
   "source": [
    "# create a list of locations\n",
    "locations = []\n",
    "for i in range(len(df_williams)):\n",
    "    if i == 0:\n",
    "        locations.append((df_williams['School Latitude'][i],df_williams['School Longitude'][i])) # adds the location of the school\n",
    "        locations.append((df_williams['Latitude'][i],df_williams['Longitude'][i])) # adds the location of the first student\n",
    "    else:\n",
    "        locations.append((df_williams['Latitude'][i],df_williams['Longitude'][i])) # adds the location of all the other"
   ]
  },
  {
   "cell_type": "code",
   "execution_count": 19,
   "id": "6f91dc60",
   "metadata": {},
   "outputs": [
    {
     "data": {
      "text/plain": [
       "48"
      ]
     },
     "execution_count": 19,
     "metadata": {},
     "output_type": "execute_result"
    }
   ],
   "source": [
    "len(locations)"
   ]
  },
  {
   "cell_type": "code",
   "execution_count": 20,
   "id": "ef4c4f2b",
   "metadata": {},
   "outputs": [
    {
     "data": {
      "text/plain": [
       "[(-71.10693577, 42.32629276),\n",
       " (-71.08972, 42.3086),\n",
       " (-71.09174, 42.31168),\n",
       " (-71.09214, 42.31111),\n",
       " (-71.12167, 42.28631),\n",
       " (-71.1149, 42.28767),\n",
       " (-71.07957, 42.35197),\n",
       " (-71.08296, 42.35237),\n",
       " (-71.07729, 42.35074),\n",
       " (-71.090942, 42.327921),\n",
       " (-71.09115, 42.32668),\n",
       " (-71.09077, 42.32064),\n",
       " (-71.09033, 42.32577),\n",
       " (-71.092242, 42.324232),\n",
       " (-71.09133, 42.329295),\n",
       " (-71.0919, 42.32102),\n",
       " (-71.09207, 42.33004),\n",
       " (-71.09237, 42.31752),\n",
       " (-71.092202, 42.32125),\n",
       " (-71.09312, 42.34939),\n",
       " (-71.0844, 42.33535),\n",
       " (-71.089062, 42.335189),\n",
       " (-71.08473, 42.33712),\n",
       " (-71.0587, 42.3594),\n",
       " (-71.08427, 42.33578),\n",
       " (-71.08478, 42.33794),\n",
       " (-71.08439, 42.33733),\n",
       " (-71.0845, 42.3354),\n",
       " (-71.083765, 42.335812),\n",
       " (-71.0863, 42.33704),\n",
       " (-71.08349, 42.34207),\n",
       " (-71.08061, 42.34293),\n",
       " (-71.081, 42.34271),\n",
       " (-71.083734, 42.338159),\n",
       " (-71.12095, 42.3109),\n",
       " (-71.11726, 42.2936),\n",
       " (-71.13231, 42.30399),\n",
       " (-71.12239, 42.32172),\n",
       " (-71.12959, 42.30514),\n",
       " (-71.11836, 42.29041),\n",
       " (-71.13266, 42.30302),\n",
       " (-71.12564, 42.31025),\n",
       " (-71.11737, 42.29318),\n",
       " (-71.13029, 42.30417),\n",
       " (-71.12632, 42.31162),\n",
       " (-71.14955, 42.29114),\n",
       " (-71.14196, 42.29041),\n",
       " (-71.144545, 42.27356)]"
      ]
     },
     "execution_count": 20,
     "metadata": {},
     "output_type": "execute_result"
    }
   ],
   "source": [
    "locations"
   ]
  },
  {
   "cell_type": "code",
   "execution_count": 21,
   "id": "8a1d1c00",
   "metadata": {},
   "outputs": [],
   "source": [
    "# https://openrouteservice-py.readthedocs.io/en/latest/\n",
    "# https://github.com/GIScience/openrouteservice-py/blob/master/examples/basic_example.ipynb\n",
    "\n",
    "def get_driving_distance_matrix(coordinates):\n",
    "    \n",
    "    \"\"\" Function receives a list of locations coordinates and return a matrix with distances (m) and duration (s)\"\"\"\n",
    "    \n",
    "    client = openrouteservice.Client(key='5b3ce3597851110001cf6248221897b119124952acf8240fb50696f9')\n",
    "    #call API\n",
    "    matrix = client.distance_matrix(\n",
    "        locations=coordinates,\n",
    "        profile='driving-car',\n",
    "        metrics=['distance', 'duration'],\n",
    "        validate=False,\n",
    "    )\n",
    "    \n",
    "    return matrix"
   ]
  },
  {
   "cell_type": "code",
   "execution_count": 22,
   "id": "837c1265",
   "metadata": {},
   "outputs": [],
   "source": [
    "def call_api(locations):\n",
    "    \"\"\" Function receives a list of locations as saves the output in a json file \"\"\"\n",
    "    distance_matrix = get_driving_distance_matrix(locations)\n",
    "    # save json file\n",
    "    with open('distance_matrix.json', 'w') as outfile:\n",
    "        json.dump(distance_matrix, outfile)"
   ]
  },
  {
   "cell_type": "code",
   "execution_count": 23,
   "id": "0e8210c5",
   "metadata": {},
   "outputs": [],
   "source": [
    "# save json file with the matrix of distances\n",
    "call_api(locations)"
   ]
  },
  {
   "cell_type": "code",
   "execution_count": 24,
   "id": "b240d242",
   "metadata": {},
   "outputs": [],
   "source": [
    "def read_jsons(file):\n",
    "    with open(file) as json_file:\n",
    "        data = json.load(json_file)\n",
    "    return data"
   ]
  },
  {
   "cell_type": "code",
   "execution_count": 26,
   "id": "edde91a7",
   "metadata": {},
   "outputs": [],
   "source": [
    "distance_matrix=read_jsons('distance_matrix.json')['distances']\n",
    "duration_matrix=read_jsons('distance_matrix.json')['durations']"
   ]
  },
  {
   "cell_type": "code",
   "execution_count": 31,
   "id": "74b8f989",
   "metadata": {},
   "outputs": [
    {
     "name": "stdout",
     "output_type": "stream",
     "text": [
      "[0.0, 3607.19, 2602.87, 2714.14, 6050.23, 5729.21, 5049.18, 5226.9, 5347.26, 1944.1, 1740.1, 1880.86, 2031.62, 1945.9, 1819.27, 1766.3, 1678.52, 2279.79, 1715.8, 4166.54, 3378.59, 2683.18, 2671.92, 6470.33, 3093.06, 2793.82, 2720.01, 3388.51, 3061.59, 2667.19, 3698.18, 3758.04, 3593.39, 2904.68, 3106.7, 5086.47, 4667.54, 2711.5, 4446.14, 5170.06, 4737.56, 3465.22, 5037.69, 4416.36, 3149.37, 6807.08, 5986.27, 8148.72]\n"
     ]
    }
   ],
   "source": [
    "print(distance_matrix[0])"
   ]
  },
  {
   "cell_type": "code",
   "execution_count": 32,
   "id": "840e9ef5",
   "metadata": {},
   "outputs": [
    {
     "name": "stdout",
     "output_type": "stream",
     "text": [
      "[0.0, 382.92, 281.77, 287.84, 578.0, 538.86, 553.49, 609.08, 590.39, 231.06, 194.34, 230.04, 246.81, 245.49, 201.79, 211.24, 180.22, 295.39, 200.33, 478.79, 395.24, 308.58, 281.15, 750.46, 349.52, 299.99, 286.71, 397.03, 343.85, 290.83, 384.28, 415.68, 388.75, 303.93, 358.93, 444.89, 509.58, 378.4, 486.48, 451.75, 522.18, 410.02, 441.7, 481.12, 342.08, 676.7, 629.98, 768.42]\n"
     ]
    }
   ],
   "source": [
    "print(duration_matrix[0])"
   ]
  }
 ],
 "metadata": {
  "kernelspec": {
   "display_name": "Python 3 (ipykernel)",
   "language": "python",
   "name": "python3"
  },
  "language_info": {
   "codemirror_mode": {
    "name": "ipython",
    "version": 3
   },
   "file_extension": ".py",
   "mimetype": "text/x-python",
   "name": "python",
   "nbconvert_exporter": "python",
   "pygments_lexer": "ipython3",
   "version": "3.8.5"
  }
 },
 "nbformat": 4,
 "nbformat_minor": 5
}
